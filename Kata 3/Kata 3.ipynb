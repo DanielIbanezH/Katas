{
 "cells": [
  {
   "cell_type": "markdown",
   "metadata": {},
   "source": [
    "# Problema 1"
   ]
  },
  {
   "cell_type": "code",
   "execution_count": 3,
   "metadata": {},
   "outputs": [
    {
     "name": "stdout",
     "output_type": "stream",
     "text": [
      "Advertencia: Un asteroide se acerca a una velocidad superior a 49 km/s\n"
     ]
    }
   ],
   "source": [
    "asteroide = 49\n",
    "if asteroide > 25:\n",
    "    print(\"Advertencia: Un asteroide se acerca a una velocidad superior a 25 km/s\")\n",
    "else:\n",
    "    print(\"Sin cambios\")"
   ]
  },
  {
   "cell_type": "markdown",
   "metadata": {},
   "source": [
    "# Problema 2"
   ]
  },
  {
   "cell_type": "code",
   "execution_count": 4,
   "metadata": {},
   "outputs": [
    {
     "name": "stdout",
     "output_type": "stream",
     "text": [
      "Sin cambios\n"
     ]
    }
   ],
   "source": [
    "asteroide = 19\n",
    "if asteroide > 20:\n",
    "    print(\"Se observa un rayo de luz proveniente de un asteroide\")\n",
    "elif asteroide == 20:\n",
    "    print(\"Se observa un rayo de luz proveniente de un asteroide\")\n",
    "else:\n",
    "    print(\"Sin cambios\")"
   ]
  },
  {
   "cell_type": "markdown",
   "metadata": {},
   "source": [
    "# Problema 3"
   ]
  },
  {
   "cell_type": "code",
   "execution_count": 5,
   "metadata": {},
   "outputs": [
    {
     "name": "stdout",
     "output_type": "stream",
     "text": [
      "Alerta Importante: Se aproxima un asteroide peligroso a la tierra, Alta posibilidad de daños\n"
     ]
    }
   ],
   "source": [
    "velocidad_asteroide = 26\n",
    "tamano_asteroide = 26\n",
    "if velocidad_asteroide > 25 and tamano_asteroide > 25:\n",
    "    print(\"Alerta Importante: Se aproxima un asteroide peligroso a la tierra, Alta posibilidad de daños\")\n",
    "elif velocidad_asteroide > 25:\n",
    "    print(\"Alerta: Advertencia: Un asteroide se acerca a una velocidad superior a 25 km/s \")\n",
    "elif velocidad_asteroide >= 20:\n",
    "    print(\"Se observa un rayo de luz proveniente de un asteroide\")\n",
    "else:\n",
    "    print(\"Sin cambios\")"
   ]
  }
 ],
 "metadata": {
  "interpreter": {
   "hash": "7cc2f80e88967eb27f923e3bc96a07b6e52aa2a819bf8430ee7ee0fe71dbb06a"
  },
  "kernelspec": {
   "display_name": "Python 3.10.2 ('env': venv)",
   "language": "python",
   "name": "python3"
  },
  "language_info": {
   "codemirror_mode": {
    "name": "ipython",
    "version": 3
   },
   "file_extension": ".py",
   "mimetype": "text/x-python",
   "name": "python",
   "nbconvert_exporter": "python",
   "pygments_lexer": "ipython3",
   "version": "3.10.2"
  },
  "orig_nbformat": 4
 },
 "nbformat": 4,
 "nbformat_minor": 2
}
